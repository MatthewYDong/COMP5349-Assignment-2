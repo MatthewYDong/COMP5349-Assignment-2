{
 "cells": [
  {
   "cell_type": "code",
   "execution_count": 15,
   "id": "992a5b80",
   "metadata": {},
   "outputs": [],
   "source": [
    "# Import all necessary libraries and setup the environment for matplotlib\n",
    "from pyspark.sql import SparkSession\n",
    "from pyspark.sql.functions import split, explode, col, concat_ws, lit\n",
    "from pyspark.sql.types import StringType, IntegerType, StructType, StructField\n",
    "import numpy as np\n",
    "\n",
    "import json\n",
    "from pyspark.ml.feature import HashingTF, IDF, Tokenizer\n",
    "from pyspark.ml.feature import Word2Vec\n",
    "from numpy import dot\n",
    "from numpy.linalg import norm\n",
    "\n",
    "from pyspark.ml.recommendation import ALS"
   ]
  },
  {
   "cell_type": "code",
   "execution_count": 16,
   "id": "6c057b07",
   "metadata": {},
   "outputs": [],
   "source": [
    "spark = SparkSession \\\n",
    "    .builder \\\n",
    "    .appName(\"lsah8006_assignment2_local_with_caching_less_jobs\") \\\n",
    "    .getOrCreate()\n",
    "\n",
    "#sc = spark.sparkContext"
   ]
  },
  {
   "cell_type": "code",
   "execution_count": 17,
   "id": "af1894da",
   "metadata": {},
   "outputs": [],
   "source": [
    "datafile = \"tweets.json\"\n",
    "\n",
    "with open(datafile) as f:\n",
    "    data = spark.read.option(\"multiline\", \"true\").json(datafile).cache()"
   ]
  },
  {
   "cell_type": "markdown",
   "id": "e8bf4ef8",
   "metadata": {},
   "source": [
    "### Workload1"
   ]
  },
  {
   "cell_type": "code",
   "execution_count": 18,
   "id": "47dd62af",
   "metadata": {},
   "outputs": [],
   "source": [
    "#data1 = data.select(data.user_id, concat_ws(\" \",data.replyto_id, data.retweet_id).alias(\"reply_retweet\"))\\\n",
    "#    .where(\"replyto_id IS NOT NULL OR retweet_id IS NOT NULL\")\n",
    "data1 = data.select([\"user_id\",\"replyto_id\",\"retweet_id\"]).where(\"replyto_id IS NOT NULL OR retweet_id IS NOT NULL\")"
   ]
  },
  {
   "cell_type": "code",
   "execution_count": 19,
   "id": "84f01e27",
   "metadata": {},
   "outputs": [],
   "source": [
    "#convert to RDD to (k,v) format\n",
    "data1 = data1.rdd.map(lambda a:(a[0],(a[1], a[2])))"
   ]
  },
  {
   "cell_type": "code",
   "execution_count": 20,
   "id": "c9d20f46",
   "metadata": {},
   "outputs": [],
   "source": [
    "#Combine all ids from values except 'none'\n",
    "def combineIds(values):\n",
    "    values = list(values)\n",
    "    clean = []\n",
    "    for i in values:\n",
    "        for j in i:\n",
    "            if j != None:\n",
    "                clean.append(str(j))\n",
    "    return clean"
   ]
  },
  {
   "cell_type": "code",
   "execution_count": 21,
   "id": "a0c9704d",
   "metadata": {},
   "outputs": [],
   "source": [
    "#Combine all ids from value for each user\n",
    "data1 = data1.groupByKey().mapValues(combineIds)"
   ]
  },
  {
   "cell_type": "code",
   "execution_count": 22,
   "id": "fa861607",
   "metadata": {},
   "outputs": [],
   "source": [
    "#Convert to spark dataframe\n",
    "documentDF = spark.createDataFrame(data1).cache()"
   ]
  },
  {
   "cell_type": "code",
   "execution_count": 23,
   "id": "b0b3152a",
   "metadata": {},
   "outputs": [],
   "source": [
    "# Define cosine similarity function\n",
    "def cosine(a,b):\n",
    "    return dot(a, b)/(norm(a)*norm(b))"
   ]
  },
  {
   "cell_type": "markdown",
   "id": "cfa8d60c",
   "metadata": {},
   "source": [
    "### Implement word2vec"
   ]
  },
  {
   "cell_type": "code",
   "execution_count": 24,
   "id": "1d17ec5d",
   "metadata": {},
   "outputs": [],
   "source": [
    "word2Vec = Word2Vec(vectorSize=5, seed=9, minCount=2, inputCol=\"_2\", outputCol=\"result\")\n",
    "model = word2Vec.fit(documentDF)"
   ]
  },
  {
   "cell_type": "code",
   "execution_count": 25,
   "id": "69301e2d",
   "metadata": {},
   "outputs": [],
   "source": [
    "data_w2v = model.transform(documentDF)"
   ]
  },
  {
   "cell_type": "markdown",
   "id": "0a71239f",
   "metadata": {},
   "source": [
    "Using ID \"55199013\" and show its top 5 similar users"
   ]
  },
  {
   "cell_type": "code",
   "execution_count": 26,
   "id": "c2be7d60",
   "metadata": {},
   "outputs": [],
   "source": [
    "feature = data_w2v.filter(\"_1=55199013\").select(\"result\").rdd.collect()[0][0]\n",
    "#Remove this user to avoid calculating cosine similarity with itself\n",
    "#Only retaining the columns needed for cosine similarity calculation\n",
    "data_w2v = data_w2v.filter(\"_1!=55199013\").select(\"_1\", \"result\").rdd"
   ]
  },
  {
   "cell_type": "code",
   "execution_count": 27,
   "id": "8fc2f734",
   "metadata": {},
   "outputs": [],
   "source": [
    "# Computing cosine similarity between input user's features and the entire dataset\n",
    "cos_sim = data_w2v.map(lambda x: (x[0], cosine(x[1],feature)))"
   ]
  },
  {
   "cell_type": "code",
   "execution_count": 28,
   "id": "9fe14b31",
   "metadata": {},
   "outputs": [],
   "source": [
    "# Sorting above.\n",
    "cos_sim_sorted = cos_sim.sortBy(lambda x: x[1], ascending=False)"
   ]
  },
  {
   "cell_type": "code",
   "execution_count": 29,
   "id": "70906158",
   "metadata": {},
   "outputs": [
    {
     "data": {
      "text/plain": [
       "[(1368336521602990081, 0.9222373122166656),\n",
       " (1302012787716222977, 0.8900282934912264),\n",
       " (132170371, 0.8183430839445668),\n",
       " (2391614580, 0.7935510614383173),\n",
       " (1155452351668318208, 0.7935510614383173)]"
      ]
     },
     "execution_count": 29,
     "metadata": {},
     "output_type": "execute_result"
    }
   ],
   "source": [
    "cos_sim_sorted.take(5)"
   ]
  },
  {
   "cell_type": "markdown",
   "id": "b53498a5",
   "metadata": {},
   "source": [
    "### Implement tf-idf"
   ]
  },
  {
   "cell_type": "code",
   "execution_count": 30,
   "id": "f453490b",
   "metadata": {},
   "outputs": [],
   "source": [
    "hashingTF = HashingTF(inputCol=\"_2\", outputCol=\"hash_tf\", numFeatures=10)\n",
    "data_tf = hashingTF.transform(documentDF)"
   ]
  },
  {
   "cell_type": "code",
   "execution_count": 31,
   "id": "ebe9aa8e",
   "metadata": {},
   "outputs": [],
   "source": [
    "# Calculating IDF\n",
    "idf = IDF(inputCol=\"hash_tf\", outputCol=\"result\")\n",
    "idf_model = idf.fit(data_tf)\n",
    "data_idf = idf_model.transform(data_tf)"
   ]
  },
  {
   "cell_type": "code",
   "execution_count": 32,
   "id": "b54c2fb0",
   "metadata": {},
   "outputs": [
    {
     "data": {
      "text/plain": [
       "SparseVector(10, {4: 4.1022, 5: 3.2912})"
      ]
     },
     "execution_count": 32,
     "metadata": {},
     "output_type": "execute_result"
    }
   ],
   "source": [
    "feature = data_idf.filter(\"_1=55199013\").select(\"result\").rdd.collect()[0][0]\n",
    "feature"
   ]
  },
  {
   "cell_type": "code",
   "execution_count": 33,
   "id": "ec17163a",
   "metadata": {},
   "outputs": [],
   "source": [
    "data_tfidf = data_idf.filter(\"_1!=55199013\").select(\"_1\", \"result\").rdd\n",
    "cos_sim = data_tfidf.map(lambda x: (x[0], cosine(feature, x[1])))"
   ]
  },
  {
   "cell_type": "code",
   "execution_count": 34,
   "id": "1ec110d0",
   "metadata": {},
   "outputs": [
    {
     "data": {
      "text/plain": [
       "[(1164464791085342720, 1.0),\n",
       " (1303352004232830976, 1.0),\n",
       " (196110680, 1.0),\n",
       " (1078659401907621893, 0.869233156717764),\n",
       " (1338975633800536065, 0.8689424535712936)]"
      ]
     },
     "execution_count": 34,
     "metadata": {},
     "output_type": "execute_result"
    }
   ],
   "source": [
    "# Sorting above.\n",
    "cos_sim_sorted = cos_sim.sortBy(lambda x: x[1], ascending=False)\n",
    "cos_sim_sorted.collect()[:5]"
   ]
  },
  {
   "cell_type": "code",
   "execution_count": 35,
   "id": "2eb8d0dd",
   "metadata": {},
   "outputs": [],
   "source": [
    "# Sorting above.\n",
    "cos_sim_sorted = cos_sim.sortBy(lambda x: x[1], ascending=False)"
   ]
  },
  {
   "cell_type": "code",
   "execution_count": 36,
   "id": "6432af43",
   "metadata": {},
   "outputs": [
    {
     "data": {
      "text/plain": [
       "[(1164464791085342720, 1.0),\n",
       " (1303352004232830976, 1.0),\n",
       " (196110680, 1.0),\n",
       " (1078659401907621893, 0.869233156717764),\n",
       " (1338975633800536065, 0.8689424535712936)]"
      ]
     },
     "execution_count": 36,
     "metadata": {},
     "output_type": "execute_result"
    }
   ],
   "source": [
    "cos_sim_sorted.take(5)"
   ]
  },
  {
   "cell_type": "markdown",
   "id": "57ae98c3",
   "metadata": {},
   "source": [
    "### Workload2"
   ]
  },
  {
   "cell_type": "code",
   "execution_count": 37,
   "id": "69d2e4ad",
   "metadata": {},
   "outputs": [],
   "source": [
    "#Project only relevant columns(user id and mention Ids), converted mentions to string for easy separation of values\n",
    "data2 = data.select(data.user_id, concat_ws(\",\",data.user_mentions.id)\\\n",
    "                    .alias(\"user_mention\")).where(\"user_mentions IS NOT NULL\")\n",
    "#print(data2.count())\n",
    "#data2.show(20)"
   ]
  },
  {
   "cell_type": "code",
   "execution_count": 38,
   "id": "ada18858",
   "metadata": {},
   "outputs": [],
   "source": [
    "#Convert short & fat dataframe to tall & skinny structure for calculating number of (user, mention) combinations\n",
    "data2 = data2.withColumn(\"mentions\", explode(split(data2[\"user_mention\"], \",\"))).drop(\"user_mention\")\n",
    "#data2.show(20)"
   ]
  },
  {
   "cell_type": "code",
   "execution_count": 39,
   "id": "935127cf",
   "metadata": {},
   "outputs": [],
   "source": [
    "#Convert dataframe to rdd for map-reduce operations\n",
    "data2_rdd = data2.rdd.map(lambda row: ((row[0], row[1]), 1))\n",
    "#data2_rdd.take(15)"
   ]
  },
  {
   "cell_type": "code",
   "execution_count": 40,
   "id": "85970b9a",
   "metadata": {},
   "outputs": [],
   "source": [
    "#Combine all (user, mention) combinations and count them\n",
    "data2_rdd = data2_rdd.reduceByKey(lambda a, b: a+b).map(lambda a: (a[0][0], a[0][1], a[1]))\n",
    "#data2_rdd.take(5)"
   ]
  },
  {
   "cell_type": "code",
   "execution_count": 41,
   "id": "16dc1e4e",
   "metadata": {},
   "outputs": [],
   "source": [
    "#list all users for creating index, user dictionary\n",
    "users = data2_rdd.map(lambda a:a[0]).collect()\n",
    "#list all mention users\n",
    "mentions = data2_rdd.map(lambda a:a[1]).collect()"
   ]
  },
  {
   "cell_type": "code",
   "execution_count": 42,
   "id": "fbbb0116",
   "metadata": {},
   "outputs": [
    {
     "data": {
      "text/plain": [
       "9116"
      ]
     },
     "execution_count": 42,
     "metadata": {},
     "output_type": "execute_result"
    }
   ],
   "source": [
    "#Combine users and mentions to create a common user base\n",
    "users = users + mentions\n",
    "#Remove duplicate user entries which may also be present in mentions\n",
    "users = set(users)\n",
    "len(users)"
   ]
  },
  {
   "cell_type": "code",
   "execution_count": 43,
   "id": "c9c6a308",
   "metadata": {},
   "outputs": [],
   "source": [
    "#create indices for all users and put them in a dictionary\n",
    "user_ind = dict()\n",
    "ind = 0\n",
    "for user in users:\n",
    "    user_ind[ind] = user\n",
    "    ind += 1\n",
    "    \n",
    "#list(user_ind.items())[:5]"
   ]
  },
  {
   "cell_type": "code",
   "execution_count": 44,
   "id": "178ab7f3",
   "metadata": {},
   "outputs": [],
   "source": [
    "#Functions to retrieve users from indices and vice-versa\n",
    "def user2index(user_id):\n",
    "    return list(user_ind.keys())[list(user_ind.values()).index(user_id)]\n",
    "\n",
    "def index2user(index_id):\n",
    "    return user_ind[index_id]"
   ]
  },
  {
   "cell_type": "code",
   "execution_count": 45,
   "id": "95eb323e",
   "metadata": {},
   "outputs": [],
   "source": [
    "#Replace userIds with indices before passing to ALS algorithm\n",
    "data2_rdd = data2_rdd.map(lambda row: ((user2index(row[0])), (user2index(row[1])), row[2]))\n",
    "#data2_rdd.take(5)"
   ]
  },
  {
   "cell_type": "code",
   "execution_count": 46,
   "id": "9c66d2cf",
   "metadata": {},
   "outputs": [],
   "source": [
    "#Convert RDD to DataFrame\n",
    "schema = StructType([\n",
    "    StructField(\"uid\", IntegerType(), True),\n",
    "    StructField(\"mention_id\", IntegerType(), True),\n",
    "    StructField(\"count\", IntegerType(), True)])\n",
    "\n",
    "data2 = spark.createDataFrame(data2_rdd, schema).cache()"
   ]
  },
  {
   "cell_type": "code",
   "execution_count": 59,
   "id": "4746d1e8",
   "metadata": {},
   "outputs": [],
   "source": [
    "#Run the ALS reccomendation\n",
    "als = ALS(maxIter=10, regParam=0.01, userCol=\"uid\", itemCol=\"mention_id\", implicitPrefs=True, ratingCol=\"count\",coldStartStrategy=\"drop\")\n",
    "model = als.fit(data2)"
   ]
  },
  {
   "cell_type": "code",
   "execution_count": 65,
   "id": "a889c73a",
   "metadata": {},
   "outputs": [],
   "source": [
    "reco = model.recommendForAllUsers(5)"
   ]
  },
  {
   "cell_type": "code",
   "execution_count": 69,
   "id": "2c605758",
   "metadata": {},
   "outputs": [
    {
     "name": "stdout",
     "output_type": "stream",
     "text": [
      "+----+--------------------+\n",
      "| uid|     recommendations|\n",
      "+----+--------------------+\n",
      "|1580|[{4589, 0.2792199...|\n",
      "|4900|[{4275, 0.9620833...|\n",
      "|5300|[{6998, 0.9591287...|\n",
      "|6620|[{6998, 0.9591287...|\n",
      "|7240|[{4589, 0.0120965...|\n",
      "+----+--------------------+\n",
      "only showing top 5 rows\n",
      "\n"
     ]
    }
   ],
   "source": [
    "reco.show(5)"
   ]
  },
  {
   "cell_type": "code",
   "execution_count": 129,
   "id": "a2666066",
   "metadata": {},
   "outputs": [],
   "source": [
    "#Collect top 5 mention indices and convert to userIds\n",
    "def rec_mention(line):\n",
    "    mentions = []\n",
    "    user, recommended_mention_indices = line\n",
    "    user = index2user(user)\n",
    "    for i in range(len(recommended_mention_indices)):\n",
    "        mention_index = recommended_mention_indices[i][0]\n",
    "        mention = index2user(mention_index)\n",
    "        mentions.append(mention)\n",
    "    return (user, mentions)"
   ]
  },
  {
   "cell_type": "code",
   "execution_count": 131,
   "id": "402f29aa",
   "metadata": {},
   "outputs": [
    {
     "data": {
      "text/plain": [
       "[(2453476904, ['428333', '18831926', '191807697', '759251', '380648579']),\n",
       " (365773760, ['807095', '360019454', '21802625', '20402945', '428333']),\n",
       " (227395882,\n",
       "  ['26574283', '996693014251585536', '13850422', '185025785', '1004633989']),\n",
       " (768291338752135168,\n",
       "  ['26574283', '996693014251585536', '13850422', '185025785', '1004633989']),\n",
       " (712795211131256833,\n",
       "  ['428333', '18831926', '191807697', '380648579', '759251'])]"
      ]
     },
     "execution_count": 131,
     "metadata": {},
     "output_type": "execute_result"
    }
   ],
   "source": [
    "reco.rdd.map(lambda row: rec_mention(row)).take(5)"
   ]
  }
 ],
 "metadata": {
  "kernelspec": {
   "display_name": "Python 3",
   "language": "python",
   "name": "python3"
  },
  "language_info": {
   "codemirror_mode": {
    "name": "ipython",
    "version": 3
   },
   "file_extension": ".py",
   "mimetype": "text/x-python",
   "name": "python",
   "nbconvert_exporter": "python",
   "pygments_lexer": "ipython3",
   "version": "3.9.4"
  }
 },
 "nbformat": 4,
 "nbformat_minor": 5
}
